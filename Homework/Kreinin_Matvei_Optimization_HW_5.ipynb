{
 "cells": [
  {
   "cell_type": "markdown",
   "id": "0a6fcbb6",
   "metadata": {},
   "source": [
    "# Домашнее задание 5\n",
    "\n",
    "Это домашнее задание по материалам второго семинаров. Дедлайн по отправке - 23:55 17 марта. \n",
    "\n",
    "Домашнее задание выполняется в этом же Jupyter Notebook'e и присылается мне на почту: __beznosikov.an@phystech.edu__.\n",
    "\n",
    "Решение каждой задачи необходимо поместить после её условия.\n",
    "\n",
    "Файл должен называться: Фамилия_Имя_Optimization_HW_5\n",
    "\n",
    "При полном запуске Вашего решения (Kernel -> Restart & Run All) все ячейки должны выполняться без ошибок. "
   ]
  },
  {
   "cell_type": "markdown",
   "id": "969a8d32",
   "metadata": {},
   "source": [
    "## Задача 1\n",
    "\n",
    "Рассмотрим задачу минимизации:\n",
    "\\begin{equation}\n",
    "\\min_{x \\in \\mathbb{R}^d} f(x) = \\frac{1}{2}x^T A x - b^T x,\n",
    "\\end{equation}\n",
    "где в качестве матрицы $A$ - случайная матрица с $L =1000$, $\\mu = 1$, $d = 100$, $b$ - так же случайный вектор.\n",
    "\n",
    "__(а)__ Для такой задачи симулируем итерацию SGD:\n",
    "$$\n",
    "x^{k+1} = x^k - \\gamma (\\nabla f(x^k) + \\xi^k),\n",
    "$$\n",
    "где $\\xi^k$ - независимая от $x^k$ случайная величина из нормального распределения $\\mathcal{N}(0, 100)$.\n",
    "\n",
    "Для такого метода с $\\gamma = \\frac{1}{L}$ постройте график сходимости (критерий $\\| \\nabla f(x^k)\\|^2$). Постройте на этом же графике сходимость честного градиентного спуска c $\\gamma = \\frac{1}{L}$. Сделайте вывод о характере сходимости нового метода."
   ]
  },
  {
   "cell_type": "code",
   "execution_count": null,
   "id": "2d180c19",
   "metadata": {},
   "outputs": [],
   "source": [
    "import numpy as np\n",
    "import matplotlib.pyplot as plt\n",
    "import numpy.linalg as la\n",
    "\n",
    "from importlib import reload\n",
    "import HW_5\n",
    "reload(HW_5)\n",
    "from HW_5 import MyLinearRegression"
   ]
  },
  {
   "cell_type": "code",
   "execution_count": null,
   "id": "b76a263f",
   "metadata": {},
   "outputs": [],
   "source": [
    "#@title Генерация матрицы\n",
    "#ответ\n",
    "def generate_matrix(d, mu, L):\n",
    "    \"\"\"\n",
    "    Функция генерации симметричной квадратной матрицы(d, d),\n",
    "    с минимальным собственным числом mu, и нормой матрицы L.\n",
    "\n",
    "    Inputs:\n",
    "    - d     : размер матрицы \n",
    "    - mu    : минимальное собственное число в матрице\n",
    "    - L     : норма матрицы    \n",
    "    \n",
    "    Returns:\n",
    "    Сгенерированную матрицу.\n",
    "    \"\"\"\n",
    "    tmp = np.random.rand(d, d)  # генерим случайную матрицу\n",
    "    tmp = tmp + tmp.T           # делаем её симметричной\n",
    "    u, s, vh = la.svd(tmp)      # раскладываем по svd\n",
    "    \n",
    "    s = s - np.amin(s) + mu     # вычитаем минимальный элемент и прибавляем желаемое значение mu\n",
    "    s[0] = L\n",
    "\n",
    "    D = np.diag(s)\n",
    "    A = u.T @ D @ u\n",
    "\n",
    "    return A\n",
    "\n",
    "def draw_error_time(model):\n",
    "    _, ax = plt.subplots(1, 2, figsize=(21, 7))\n",
    "    step = model.get_step()\n",
    "    \n",
    "    y = np.array(model.get_errors())\n",
    "    x = np.linspace(step, step * len(y), len(y))\n",
    "\n",
    "    ax[0].set_title(\"Логарифм ошибки от номера итерации ($error = || \\\\nabla f(w) ||$)\")\n",
    "    ax[0].plot(x, np.log(y), label=model.get_name())\n",
    "\n",
    "    ax[0].set_xlabel(\"Номер итерации\")\n",
    "    ax[0].set_ylabel(\"Логарифм ошибки\")\n",
    "\n",
    "    x = np.array(model.get_time())\n",
    "\n",
    "    ax[1].set_title(\"Логарифм ошибки от времени ($error = || \\\\nabla f(w) ||$)\")\n",
    "    ax[1].plot(x, np.log(y), label=model.get_name())\n",
    "\n",
    "    ax[1].set_xlabel(\"Время, с\")\n",
    "    ax[1].set_ylabel(\"Логарифм ошибки\")\n",
    "    \n",
    "    legend_box = ax[1].legend(framealpha=1).get_frame()\n",
    "    legend_box.set_facecolor(\"white\")\n",
    "    legend_box.set_edgecolor(\"black\")\n",
    "\n",
    "    legend_box = ax[0].legend(framealpha=1).get_frame()\n",
    "    legend_box.set_facecolor(\"white\")\n",
    "    legend_box.set_edgecolor(\"black\")\n",
    "\n",
    "def func_draw_error_time(model_A, model_B):\n",
    "    _, ax = plt.subplots(1, 2, figsize=(21, 7))\n",
    "    step_A = model_A.get_step()\n",
    "    step_B = model_B.get_step()\n",
    "\n",
    "    ax[0].set_title(\"Логарифм ошибки от номера итерации ($error = || \\\\nabla f(w) ||$)\")\n",
    "    ax[0].set_xlabel(\"Номер итерации\")\n",
    "    ax[0].set_ylabel(\"Логарифм ошибки\")\n",
    "    \n",
    "    ax[1].set_title(\"Логарифм ошибки от времени ($error = || \\\\nabla f(w) ||$)\")\n",
    "    ax[1].set_xlabel(\"Время, с\")\n",
    "    ax[1].set_ylabel(\"Логарифм ошибки\")\n",
    "    \n",
    "    \n",
    "    y = np.array(model_A.get_errors())\n",
    "    x = np.linspace(step_A, step_A * len(y), len(y))\n",
    "    ax[0].plot(x, np.log(y), label=model_A.get_name())\n",
    "    x = np.array(model_A.get_time())\n",
    "    ax[1].plot(x, np.log(y), label=model_A.get_name())\n",
    "\n",
    "    y = np.array(model_B.get_errors())\n",
    "    x = np.linspace(step_B, step_B * len(y), len(y))\n",
    "    ax[0].plot(x, np.log(y), label = model_B.get_name())\n",
    "    x = np.array(model_B.get_time())\n",
    "    ax[1].plot(x, np.log(y), label=model_B.get_name())\n",
    "\n",
    "    legend_box = ax[1].legend(framealpha=1).get_frame()\n",
    "    legend_box.set_facecolor(\"white\")\n",
    "    legend_box.set_edgecolor(\"black\")\n",
    "\n",
    "    legend_box = ax[0].legend(framealpha=1).get_frame()\n",
    "    legend_box.set_facecolor(\"white\")\n",
    "    legend_box.set_edgecolor(\"black\")\n",
    "\n",
    "def plot_3_models(model_A, model_B, model_C):\n",
    "    _, ax = plt.subplots(1, 2, figsize=(21, 7))\n",
    "    step_A = model_A.get_step()\n",
    "    step_B = model_B.get_step()\n",
    "    step_C = model_C.get_step()\n",
    "\n",
    "    ax[0].set_title(\"Логарифм ошибки от номера итерации ($error = || \\\\nabla f(w) ||$)\")\n",
    "    ax[0].set_xlabel(\"Номер итерации\")\n",
    "    ax[0].set_ylabel(\"Логарифм ошибки\")\n",
    "    \n",
    "    ax[1].set_title(\"Логарифм ошибки от времени ($error = || \\\\nabla f(w) ||$)\")\n",
    "    ax[1].set_xlabel(\"Время, с\")\n",
    "    ax[1].set_ylabel(\"Логарифм ошибки\")\n",
    "    \n",
    "    \n",
    "    y = np.array(model_A.get_errors())\n",
    "    x = np.linspace(step_A, step_A * len(y), len(y))\n",
    "    ax[0].plot(x, np.log(y), label=model_A.get_name())\n",
    "    x = np.array(model_A.get_time())\n",
    "    ax[1].plot(x, np.log(y), label=model_A.get_name())\n",
    "\n",
    "    y = np.array(model_B.get_errors())\n",
    "    x = np.linspace(step_B, step_B * len(y), len(y))\n",
    "    ax[0].plot(x, np.log(y), label = model_B.get_name())\n",
    "    x = np.array(model_B.get_time())\n",
    "    ax[1].plot(x, np.log(y), label=model_B.get_name())\n",
    "\n",
    "    y = np.array(model_C.get_errors())\n",
    "    x = np.linspace(step_C, step_C * len(y), len(y))\n",
    "    ax[0].plot(x, np.log(y), label = model_C.get_name())\n",
    "    x = np.array(model_C.get_time())\n",
    "    ax[1].plot(x, np.log(y), label=model_C.get_name())\n",
    "\n",
    "    legend_box = ax[1].legend(framealpha=1).get_frame()\n",
    "    legend_box.set_facecolor(\"white\")\n",
    "    legend_box.set_edgecolor(\"black\")\n",
    "\n",
    "    legend_box = ax[0].legend(framealpha=1).get_frame()\n",
    "    legend_box.set_facecolor(\"white\")\n",
    "    legend_box.set_edgecolor(\"black\")\n"
   ]
  },
  {
   "cell_type": "code",
   "execution_count": null,
   "id": "1340b577",
   "metadata": {},
   "outputs": [],
   "source": [
    "# Параметры задачи минимизации\n",
    "d = 100\n",
    "mu = 1\n",
    "L = 1000\n",
    "b = np.random.randn(d)\n",
    "A = generate_matrix(d, mu, L)"
   ]
  },
  {
   "cell_type": "code",
   "execution_count": null,
   "id": "14224ff4",
   "metadata": {},
   "outputs": [],
   "source": [
    "# Обучение моделей\n",
    "model_st = MyLinearRegression(stochastic=True, name=\"SGD\")\n",
    "model_st.fit(A, b)\n",
    "\n",
    "model_dt = MyLinearRegression(stochastic=False, name=\"GD\")\n",
    "model_dt.fit(A, b)"
   ]
  },
  {
   "cell_type": "code",
   "execution_count": null,
   "id": "f7dc1bd1",
   "metadata": {},
   "outputs": [],
   "source": [
    "func_draw_error_time(model_dt, model_st)\n",
    "draw_error_time(model_st)\n",
    "draw_error_time(model_dt)"
   ]
  },
  {
   "attachments": {},
   "cell_type": "markdown",
   "id": "34a26bc6",
   "metadata": {},
   "source": [
    "## Вывод:\n",
    "Новый метод при таком выборе случайного вектора: $\\xi^k$ - независимая от $x^k$ случайная величина из нормального распределения $\\mathcal{N}(0, 100)$, не сходится, т.к. это вносит существенную погрешность в градиент функции и сходимости как такой нет, это видно из графика и того, как быстро сходится детерменированный градиентный спуск"
   ]
  },
  {
   "cell_type": "markdown",
   "id": "ecdb57fe",
   "metadata": {},
   "source": [
    "__(б)__ На семинаре обсуждались способы борьбы со \"стохастичностью\" сходимости градиентного спуска. В частности, мы затронули использование уменьшающегося шага (смотри, например, Теорему 5 из [работы](https://arxiv.org/pdf/1907.04232.pdf)), а также использование батчирования (в нашем случае это просто замена: $\\xi^k \\to \\frac{1}{b} \\sum\\limits_{i=1}^b \\xi^k_i$, где $\\xi^k_i \\in \\mathcal{N}(0, 100)$ и независимы). Реализуйте эти модификации (для батчирования возьмите $b = 10 , 100$). Добавьте полученные результаты на график сходимости из пункта (а). Постройте также график сходимости, где по оси $x$ будет не количество итераций, а количество генераций $\\xi^k_i$ (количество вызовов стохастического градиента)."
   ]
  },
  {
   "cell_type": "code",
   "execution_count": null,
   "id": "46b1db1d",
   "metadata": {},
   "outputs": [],
   "source": [
    "model_batch10 = MyLinearRegression(name=\"SGD + batch\", batch=10)\n",
    "model_batch10.fit(A, b)"
   ]
  },
  {
   "cell_type": "code",
   "execution_count": null,
   "id": "f69d9902",
   "metadata": {},
   "outputs": [],
   "source": [
    "draw_error_time(model_batch10)\n",
    "plot_3_models(model_dt, model_st, model_batch10)"
   ]
  },
  {
   "cell_type": "code",
   "execution_count": null,
   "id": "7be66bd9",
   "metadata": {},
   "outputs": [],
   "source": [
    "model_batch100 = MyLinearRegression(name=\"SGD + batch\", batch=100)\n",
    "model_batch100.fit(A, b)"
   ]
  },
  {
   "cell_type": "code",
   "execution_count": null,
   "id": "a827e3fb",
   "metadata": {},
   "outputs": [],
   "source": [
    "draw_error_time(model_batch100)\n",
    "plot_3_models(model_st, model_batch10, model_batch100)"
   ]
  },
  {
   "attachments": {},
   "cell_type": "markdown",
   "id": "8fab8425",
   "metadata": {},
   "source": [
    "## Вывод:\n",
    "Добавление батча улучшает сходимость данного метода, но размер батча (10 или 100) не влияет на его сходимость, заметное улучшение вносит уменьшение сигмы из нормального распределения, которому принадлежит случайная величина."
   ]
  },
  {
   "attachments": {},
   "cell_type": "markdown",
   "id": "c50d27e1",
   "metadata": {},
   "source": [
    "## Задача 2\n",
    "\n",
    "Рассмотрим задачу логистической регрессии на датасете mushrooms с $\\ell_2$-регуляризацией (коэффициент регуляризации равен $\\frac{L}{1000}$). Как мы знаем, эта задача имеет вид конечной суммы:\n",
    "\\begin{equation}\n",
    "\\min_{w \\in \\mathbb{R}^d} f(w) := \\frac{1}{N} \\sum\\limits_{j=1}^N f_j(w) := \\frac{1}{n} \\sum\\limits_{j=1}^n \\left[\\frac{1}{b} \\sum\\limits_{i=1}^b f_{ji}(w)\\right] := \\frac{1}{n} \\sum\\limits_{j=1}^n \\left[\\frac{1}{b} \\sum\\limits_{i=1}^b l (g(w, x_i), y_i)\\right],\n",
    "\\end{equation}\n",
    "где $nb = N$ - полный размер выборки. Решите данную задачу с помощью SGD, SAGA (секция А.5 из [работы](https://arxiv.org/pdf/1905.11261.pdf)), SVRG (секция А.9 из [работы](https://arxiv.org/pdf/1905.11261.pdf)) и SARAH ([работа](https://arxiv.org/pdf/1703.00102.pdf)). \n",
    "\n",
    "__(а)__ Оцените $\\mu$ и $L$ для данной задачи. Обратите внимание, что теория для SAGA, SVRG, SARAH предполагает, что $L$ - это константа Липшица градиентов $\\nabla f_j$. "
   ]
  },
  {
   "attachments": {},
   "cell_type": "markdown",
   "id": "f597dcbb",
   "metadata": {},
   "source": [
    "Константу Липшица L градиентов мы можем оценить, как в 3-м задании, а именно, посчитаем $\\nabla^2 f_i$:\n",
    "\n",
    "$$\n",
    "\\nabla^2 f_i = \\frac{x_i x_i^T}{(1 + \\exp(y_i \\cdot (w^Tx_i)))^2} \\exp(y_i \\cdot (w^T x_i))\n",
    "$$\n",
    "\n",
    "Тогда:\n",
    "\\begin{equation}\n",
    "\\nabla^2 f(w) = \\frac{1}{n} \\sum\\limits_{i=1}^n \\frac{y_i^2 \\cdot x_i x_i^T}{(1 + \\exp(y_i \\cdot (w^Tx_i)))^2} \\exp(y_i \\cdot (w^T x_i))\n",
    "\\end{equation}\n",
    "\n",
    "Оценим L следующим образом, учитывая, что $\\frac{\\exp(x)}{(1+\\exp(x))^2} \\leq \\frac{1}{4}$:\n",
    "$$\n",
    "L \\geq \\lambda_{max} \\left( \\frac{1}{4n} \\sum\\limits_{i=1}^n x_i x_i^T \\right)\n",
    "$$\n",
    "\n",
    "Оценить $\\mu$ же можно разве,что нулем, т.к. $\\frac{\\exp(x)}{(1+\\exp(x))^2}$ нельзя оценить снизу ничем кроме нуля.\n",
    "Или мы можем взять любое маленькое число C меньше, которого  $C \\leq \\frac{\\exp(x)}{(1+\\exp(x))^2}$ не может быть (это наше предположение) и оценить mu, как:\n",
    "$$\n",
    "\\mu \\leq \\frac{C}{n}\\cdot \\lambda_{min}(\\sum\\limits_{i=1}^nx_i x_i^T)\n",
    "$$\n"
   ]
  },
  {
   "cell_type": "markdown",
   "id": "d1335c12",
   "metadata": {},
   "source": [
    "__(б)__ Реализуйте SGD, SAGA, SVRG, SARAH для задачи логистической регресии из $n$ слагаемых, где каждое слагаемое так же имеет виды суммы размеры $b$. Каким надо взять $b$? Почему? Что об этом говорит теория? Как будете выбирать шаг и другие параметры методов?"
   ]
  },
  {
   "cell_type": "code",
   "execution_count": null,
   "id": "5bb8952e",
   "metadata": {},
   "outputs": [],
   "source": [
    "#ответ"
   ]
  },
  {
   "cell_type": "markdown",
   "id": "93dae9df",
   "metadata": {},
   "source": [
    "__(в)__ Постройте графики сравнения всех методов: по оси $x$ используйте время или количество подсчетов $\\nabla f_{ji}$, по оси $y$ - $\\|\\nabla f(w^k)\\|$ или точность на тесте. Таким образом, всего 4 графика. Сделайте сравнение и вывод."
   ]
  },
  {
   "cell_type": "code",
   "execution_count": null,
   "id": "a1f76f76",
   "metadata": {},
   "outputs": [],
   "source": [
    "#ответ"
   ]
  },
  {
   "cell_type": "markdown",
   "id": "56317873",
   "metadata": {},
   "source": [
    "__Бонусные пункты__\n",
    "\n",
    "__(г)__ Методы SGD, SAGA, SVRG, SARAH, которые мы рассматривали, предполагают случайный выбор индекса на каждой итерации. Но между тем, на практике обычно делают по-другому и просто последовательно меняют $i_k$ от $1$ до $n$ (а потом заново). В [работе](https://arxiv.org/abs/2006.05988) изучаются такие подходы. Реализуйте Random Reshuffling и Shuffle Once для SGD и SARAH. Сравните новые алгоритмы со старыми версиями SGD и SARAH из пунктов (б) и (в)."
   ]
  },
  {
   "cell_type": "code",
   "execution_count": null,
   "id": "caad1f26",
   "metadata": {},
   "outputs": [],
   "source": [
    "#ответ"
   ]
  },
  {
   "cell_type": "markdown",
   "id": "5de0ffdd",
   "metadata": {},
   "source": [
    "__(д)__ Методы SVRG и SARAH имеют loopless версии: L-SVRG (секция А.10 из [работы](https://arxiv.org/pdf/1905.11261.pdf) и PAGE ([работа](https://proceedings.mlr.press/v139/li21a.html)), соотвественно. Реализуйте их. Как будете выбирать вероятности в этих алгоритмах? Сравните новые алгоритмы со старыми версиями SVRG и SARAH из пунктов (б) и (в)."
   ]
  },
  {
   "cell_type": "code",
   "execution_count": null,
   "id": "ead8a333",
   "metadata": {},
   "outputs": [],
   "source": [
    "#ответ"
   ]
  }
 ],
 "metadata": {
  "kernelspec": {
   "display_name": "Python 3",
   "language": "python",
   "name": "python3"
  },
  "language_info": {
   "codemirror_mode": {
    "name": "ipython",
    "version": 3
   },
   "file_extension": ".py",
   "mimetype": "text/x-python",
   "name": "python",
   "nbconvert_exporter": "python",
   "pygments_lexer": "ipython3",
   "version": "3.10.9"
  }
 },
 "nbformat": 4,
 "nbformat_minor": 5
}
