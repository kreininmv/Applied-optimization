{
  "cells": [
    {
      "cell_type": "markdown",
      "id": "0a6fcbb6",
      "metadata": {
        "id": "0a6fcbb6"
      },
      "source": [
        "# Домашнее задание 2\n",
        "\n",
        "Это домашнее задание по материалам второго семинаров. Дедлайн по отправке - 23:55 17 февраля. \n",
        "\n",
        "Домашнее задание выполняется в этом же Jupyter Notebook'e и присылается мне на почту: __beznosikov.an@phystech.edu__.\n",
        "\n",
        "Решение каждой задачи необходимо поместить после её условия.\n",
        "\n",
        "Файл должен называться: Фамилия_Имя_Optimization_HW_2\n",
        "\n",
        "При полном запуске Вашего решения (Kernel -> Restart & Run All) все ячейки должны выполняться без ошибок. "
      ]
    },
    {
      "cell_type": "markdown",
      "id": "1b1a30ed",
      "metadata": {
        "id": "1b1a30ed"
      },
      "source": [
        "## Задача 1\n",
        "\n",
        "Рассмотрим проекцию на единичном $\\ell_1$-шар:\n",
        "\\begin{equation*}\n",
        "    \\text{proj}_{C}(x) = \\arg\\min_{y \\in C} \\|x-y\\|^2,\n",
        "\\end{equation*}\n",
        "где $C = \\{x ~|~ \\|x\\|_1 \\leq 1 \\}$.\n",
        "\n",
        "__(а)__ Найдите выражение для такой проекции в явном виде."
      ]
    },
    {
      "attachments": {},
      "cell_type": "markdown",
      "id": "LY6yR-_A9UCj",
      "metadata": {
        "id": "LY6yR-_A9UCj"
      },
      "source": [
        "Алгоритм проекции (имени Крейнина Матвея и Солодкина Владимира из комнаты 377 Б):\n",
        "\n",
        "0. Считаем l1 норму вектора x, если меньше или равно. то выдаем x, иначе переходим к шагу.\n",
        "1. Смотрим на координаты вектора x, из них понимаем в какой квадрат d-мерном пространстве мы попали, из этого понимаем уравнение ближайшей гиперплоскости.\n",
        "2. Из уравнения гиперплоскости мы знаем нормаль к ней, можем найти расстояние от точки x до нашей гиперплоскости.\n",
        "3. Нашли расстояние $h = \\frac{|(x-ro, n)|}{|n|}$, где (r0 = ($(-1)^l$, 0, ..., 0), а $l = sign(x_1)$), тогда можем найти в какой точке перпендикуляр из точки x пересекает нашу гиперплоскость.\n",
        "4. Эта точка будет задаваться выражением: $y = x - h \\cdot n$.\n",
        "5. Вычисляем l1 норму вектора y, если он больше единицы, то составляем новый вектор меньшего подпространства из координат, которые не поменяли знак с координатами исходного вектора.\n",
        "6. Вызовем алгоритм для новго вектора, пока его не станет единицей.\n",
        "\n",
        "Замечание: у этого решение есть большие минусы, которые выявились на тестировании, а именно то, что в худшем случае алгоритм работате за $O(d^2)$ и по памяти, и по итерациям.\n",
        "\n",
        "Поэтому было принято решение написать алгоритм из статьи, сл-но он и был написан.\n",
        "\n",
        "Ссылка на статью: http://jitkomut.eng.chula.ac.th/pdf/projlp.pdf \n"
      ]
    },
    {
      "cell_type": "markdown",
      "id": "0e95c5e2",
      "metadata": {
        "id": "0e95c5e2"
      },
      "source": [
        "__(б)__ Сравните:\n",
        "\\begin{equation*}\n",
        "    \\text{proj}_C (x) \\quad \\text{и} \\quad \\text{prox}_{\\lambda \\mathbb{I}_C} (x),\n",
        "\\end{equation*}\n",
        "где $\\lambda > 0$, а $\\mathbb{I}_C$ - индикаторная функция множества $C$:\n",
        "$$\n",
        "\\mathbb{I}_C = \n",
        "\\begin{cases}\n",
        "0 ,& x \\in C \\\\\n",
        "+\\infty, &x \\notin C.\n",
        "\\end{cases}\n",
        "$$\n",
        "Являются ли данные операторы эквивалентными для любых $\\lambda > 0$ и выпуклых $C$?"
      ]
    },
    {
      "attachments": {},
      "cell_type": "markdown",
      "id": "1d34cd8a",
      "metadata": {},
      "source": [
        "Оператор $\\text{prox}_C (x) = arg \\min_{y \\in \\bold{R}^d} \\left \\{ \\frac{1}{2} ||x - y||^2 + \\lambda \\mathbb{I}_C (y) \\right \\}$\n",
        "\n",
        "Оператор $\\text{proj}_C(x) = arg \\min_{y \\in C} ||x-y||^2$\n",
        "\n",
        "Давайте рассмотрим, каак работает каждый из операторов.\n",
        "1. Оператор prox работает следующим образом, мы как бы фиксируем точку x, и минимизируем с помощью y, если y будет не из множества C, то значение оператора будет бесконечно, если же y будет в С, то значение будет конечно, сл-но кандидаты в arg этой минимума это функции будут из C, т.к. в них значение конечно, а в других бесконечно.\n",
        "\n",
        "2. Оператор proj работате схожим образом, он сразу минимизирует $||x-y||^2$, беря y из множества C. Это равно сильно тому, что минимизировать $\\frac{1}{2} ||x - y||^2$.\n",
        "\n",
        "Вывод: эти два оператора эквивалентны для любых $\\lambda > 0$, т.к. при умножении на ноль или на $+\\infty$ это ни на что не влияет. "
      ]
    },
    {
      "cell_type": "markdown",
      "id": "969a8d32",
      "metadata": {
        "id": "969a8d32"
      },
      "source": [
        "## Задача 2\n",
        "\n",
        "Рассмотрим задачу минимизации эмпирического риска:\n",
        "\\begin{equation}\n",
        "\\min_{w \\in \\mathbb{R}^d} \\frac{1}{n} \\sum\\limits_{i=1}^n l (g(w, x_i), y_i),\n",
        "\\end{equation}\n",
        "где $l$ - функция потерь, $g$ - модель, $w$ - параметры модели, $\\{x_i, y_i\\}_{i=1}^n$ - выборка данных из векторов признаков $x_i$ и меток $y_i$.\n",
        "\n",
        "Далее будем рассматривать линейной модель $g(w, x) = w^T x$ и квадратичную функцию потерь $l(z, y) = (z-y)^2$.\n",
        "\n",
        "__(а)__ Запишите задачу минимизации эмпирического риска с линейной моделью  и квадратичной функцией потерь в векторно-матричном виде, используя $X$ - матрицу из векторов $\\{x_i\\}$ и вектор $y$ - из $\\{y_i\\}$."
      ]
    },
    {
      "attachments": {},
      "cell_type": "markdown",
      "id": "SrFfBUQf2qbJ",
      "metadata": {
        "id": "SrFfBUQf2qbJ"
      },
      "source": [
        "\\begin{equation}\n",
        "\\min_{w \\in \\mathbb{R}^d} ||w^TX - y||^2, X - \\text{ матрица из векторов}, y - \\text{вектор из }\\{y_i\\}.\n",
        "\\end{equation}"
      ]
    },
    {
      "cell_type": "markdown",
      "id": "ecdb57fe",
      "metadata": {
        "id": "ecdb57fe"
      },
      "source": [
        "__(б)__ К заданию приложен датасет _mushrooms_. С помощью следующего кода сформируйте матрицу $X$ и вектор $y$:"
      ]
    },
    {
      "cell_type": "code",
      "execution_count": 1,
      "id": "AzmEINQDEtBE",
      "metadata": {
        "id": "AzmEINQDEtBE"
      },
      "outputs": [],
      "source": [
        "from sklearn.datasets import load_svmlight_file\n",
        "from sklearn.model_selection import train_test_split\n",
        "import scipy.linalg as la\n",
        "import numpy as np\n",
        "import matplotlib.pyplot as plt\n",
        "\n",
        "from sklearn.linear_model import LinearRegression\n",
        "from sklearn.metrics import mean_squared_error, r2_score, accuracy_score"
      ]
    },
    {
      "cell_type": "code",
      "execution_count": 2,
      "id": "561d93a9",
      "metadata": {
        "id": "561d93a9"
      },
      "outputs": [],
      "source": [
        "dataset = \"mushrooms.txt\" \n",
        "#файл должен лежать в той же деректории, что и notebook"
      ]
    },
    {
      "cell_type": "code",
      "execution_count": 3,
      "id": "e3b303d4",
      "metadata": {
        "colab": {
          "base_uri": "https://localhost:8080/"
        },
        "id": "e3b303d4",
        "outputId": "4c439124-a40c-4d33-e965-a8ff1b3c12b1"
      },
      "outputs": [
        {
          "name": "stdout",
          "output_type": "stream",
          "text": [
            "(8124, 112) (8124,)\n"
          ]
        }
      ],
      "source": [
        "data = load_svmlight_file(dataset)\n",
        "X, y = data[0].toarray(), data[1]\n",
        "n, d = X.shape\n",
        "print(X.shape, y.shape)"
      ]
    },
    {
      "cell_type": "markdown",
      "id": "1d466614",
      "metadata": {
        "id": "1d466614"
      },
      "source": [
        "Разделите (лучше случайно) данные (а значит $X$ и $y$) на две части: обучающую и тестовую (примерно в отношении $4$ к $1$). Опишите, как это было сделано."
      ]
    },
    {
      "attachments": {},
      "cell_type": "markdown",
      "id": "9bc9d08c",
      "metadata": {},
      "source": [
        "Импортнули функцию train_test_split из sklearn, и разделили в отношении 4 к 1. Но вообще мы можем просто выбрать случайное количество индексов от 1 до n с вероятностью 20 \\%, они пойдут в test, а другие в train."
      ]
    },
    {
      "cell_type": "code",
      "execution_count": 4,
      "id": "77aa2178",
      "metadata": {
        "id": "77aa2178"
      },
      "outputs": [],
      "source": [
        "#ответ\n",
        "X_train, X_test, y_train, y_test = train_test_split(X, y, test_size=0.2, random_state=42)"
      ]
    },
    {
      "cell_type": "code",
      "execution_count": 5,
      "id": "ZK6eqeB76YWT",
      "metadata": {
        "colab": {
          "base_uri": "https://localhost:8080/"
        },
        "id": "ZK6eqeB76YWT",
        "outputId": "69fa215e-c64a-4019-a1a0-754eab39f0ba"
      },
      "outputs": [
        {
          "name": "stdout",
          "output_type": "stream",
          "text": [
            "(6499, 112) (6499,)\n",
            "(1625, 112) (1625,)\n"
          ]
        }
      ],
      "source": [
        "print(X_train.shape, y_train.shape)\n",
        "print(X_test.shape, y_test.shape)"
      ]
    },
    {
      "cell_type": "markdown",
      "id": "d3b84fa5",
      "metadata": {
        "id": "d3b84fa5"
      },
      "source": [
        "__(в)__ Для обучающей части $X_{train}$, $y_{train}$ оцените константу $L$ задачи обучения/оптимизации. Будет ли задача выпуклой? Сильно выпуклой?"
      ]
    },
    {
      "attachments": {},
      "cell_type": "markdown",
      "id": "e6cfad80",
      "metadata": {},
      "source": [
        "У нас есть функция потерь: $f(w) = \\frac{1}{n}||w^TX - y||^2$, давайте найдем её Гессиан. \n",
        "\n",
        "$\\frac{\\partial^2 f}{\\partial w^2} = \\frac{2}{n} X^T \\cdot X$\n",
        "\n",
        "Теперь посчитаем численно его минимальное и максимальное собственные числа."
      ]
    },
    {
      "cell_type": "code",
      "execution_count": 6,
      "id": "0b3d1448",
      "metadata": {
        "colab": {
          "base_uri": "https://localhost:8080/"
        },
        "id": "0b3d1448",
        "outputId": "9a65e289-6af8-4cfd-c0f8-67f0539d928f"
      },
      "outputs": [
        {
          "name": "stdout",
          "output_type": "stream",
          "text": [
            "Minimal eigenvalue:  -3.168735668875253e-14\n",
            "Maximal eigenvalue:  20.677110902977507\n"
          ]
        }
      ],
      "source": [
        "#ответ\n",
        "n, k = X_train.shape\n",
        "hessian = 2/n * X_train.T @ X_train\n",
        "wb, vb = np.linalg.eigh(hessian)\n",
        "print(\"Minimal eigenvalue: \", wb[0])\n",
        "print(\"Maximal eigenvalue: \", wb[-1])"
      ]
    },
    {
      "cell_type": "markdown",
      "id": "KDkNS8Bt7Bpl",
      "metadata": {
        "id": "KDkNS8Bt7Bpl"
      },
      "source": [
        "Понятно, что задача будет выпуклой, т.к. у нас квадрат евклидовой нормы это выпуклая функция, а внутри нормы стоит аффинная функция, поэтому их композиция будет выпуклой функцией.\n",
        "\n",
        "$L = 20.67$\n",
        "\n",
        "Формально функция потерь является сильно выпуклой функцией, но как мы поняли в прошлом задании, $\\mu = 10^{-5}$ это будет плохо обусловленная матрица, а с $\\mu = 10^{-12}$ будет совсем плохо обусловленная матрица, поэтому из теории считаем, что да, но на практике нет."
      ]
    },
    {
      "cell_type": "markdown",
      "id": "2c8a1056",
      "metadata": {
        "id": "2c8a1056"
      },
      "source": [
        "__(г)__ Используя материалы прошлого ДЗ (по желанию), решите задачу оптимизации/обучите модель машинного обучения с помощью градиентного спуска. Изобразите график сходимости. Какой критерий сходимости будет использовать? Сделайте вывод. Опишите проблемы, с которыми пришлось столкнуться."
      ]
    },
    {
      "attachments": {},
      "cell_type": "markdown",
      "id": "81c46871",
      "metadata": {},
      "source": [
        "Мы решаем не сферического коня в вакууме, поэтому было посмотрено сколько различных ответов принимает вектор y, было замечено, что 1 и 2, сл-но у нас задача не регресии, а классификации с помощью линейной модели, поэтому была применена функция активации (np.round).\n",
        "\n",
        "В качестве критерия сходимости было выбрано норма градиента функции потерь меньше небольшого числа $\\varepsilon$. $|| \\nabla f(w) || < \\varepsilon$"
      ]
    },
    {
      "cell_type": "code",
      "execution_count": 38,
      "id": "7379c076",
      "metadata": {},
      "outputs": [],
      "source": [
        "#@title Класс линейной регрессии\n",
        "\n",
        "import numpy as np\n",
        "import scipy.linalg as la\n",
        "from sklearn.metrics import accuracy_score\n",
        "\n",
        "class MyLinearRegression:\n",
        "    def __init__(self, fit_intercept=True):\n",
        "        self.fit_intercept = fit_intercept\n",
        "    \n",
        "    def __function(self, X, y, w, n):\n",
        "        return 1/n * la.norm(w @ X.T - y, 2) ** 2\n",
        "\n",
        "    def __grad_function(self, X, y, w, n):\n",
        "        \"\"\"\n",
        "        Функция под\n",
        "        \"\"\"\n",
        "        return 1/n * 2 * X.T @ (w @ X.T - y).T \n",
        "        \n",
        "    def fit(self, X, y):\n",
        "        \"\"\"\n",
        "        Функция подбора параметров линейной модели для квадратичной функции потерь.\n",
        "\n",
        "        Input: \n",
        "        - X     : матрица объектов\n",
        "        - y     : вектор ответов\n",
        "\n",
        "        Returns: none.\n",
        "        \"\"\"\n",
        "\n",
        "        n, k = X.shape\n",
        "        wo = np.array([])\n",
        "        X_train = X\n",
        "\n",
        "        # Добавляем ещё столбец для константы\n",
        "        if self.fit_intercept:\n",
        "            X_train = np.hstack((X, np.ones((n, 1))))\n",
        "            w0 = np.random.rand(k+1)\n",
        "        else:\n",
        "            w0 = np.random.rand(k)\n",
        "        \n",
        "\n",
        "        iter = int(10 ** 7)\n",
        "        \n",
        "        hessian = 2 / n * X_train.T @ X_train\n",
        "        wb, vb = np.linalg.eigh(hessian)\n",
        "        \n",
        "        lr_func = lambda X, y, w, n: 1/wb[-1]\n",
        "        \n",
        "        error_criterion = lambda X, y, w, n: np.linalg.norm(self.__grad_function(X, y, w, n), 2)\n",
        "        eps = 5*10e-5\n",
        "        iter = 10e6\n",
        "        self._w = self.__gradient_descent(self.__function, self.__grad_function,\n",
        "                                            w0, lr_func,  iter, error_criterion, \n",
        "                                            X_train, y)\n",
        "        \n",
        "        return self\n",
        "    \n",
        "\n",
        "    def fit_errors(self, X, y):\n",
        "        \"\"\"\n",
        "        Функция подбора параметров линейной модели для квадратичной функции потерь.\n",
        "\n",
        "        Input: \n",
        "        - X     : матрица объектов\n",
        "        - y     : вектор ответов\n",
        "\n",
        "        Returns: none.\n",
        "        \"\"\"\n",
        "\n",
        "        n, k = X.shape\n",
        "        wo = np.array([])\n",
        "        X_train = X\n",
        "\n",
        "        # Добавляем ещё столбец для константы\n",
        "        if self.fit_intercept:\n",
        "            X_train = np.hstack((X, np.ones((n, 1))))\n",
        "            w0 = np.random.rand(k+1)\n",
        "        else:\n",
        "            w0 = np.random.rand(k)\n",
        "        \n",
        "        hessian = 2 / n * X_train.T @ X_train\n",
        "        wb, vb = np.linalg.eigh(hessian)\n",
        "        \n",
        "        lr_func = lambda X, y, w, n: 1/wb[-1]\n",
        "        \n",
        "        error_criterion = lambda X, y, w: np.linalg.norm(self.__grad_function(X, y, w, n), 2)\n",
        "        eps = 5*10e-2\n",
        "        iter = 10e4\n",
        "        errors = []\n",
        "        accuracies = []\n",
        "        self._w = w0\n",
        "\n",
        "        for it in range(int(iter // 1000)):\n",
        "            self._w = self.__gradient_descent(self.__function, self.__grad_function, self._w,\n",
        "                                            lr_func,  1000, error_criterion, X_train, y)\n",
        "            \n",
        "            error = error_criterion(X_train, y, self._w)\n",
        "            #print(\"№ \", it * 1000, \"; error = \", error)\n",
        "            errors.append(error)\n",
        "\n",
        "            accuracies.append(accuracy_score(y, np.round(self.predict(X))))\n",
        "            if (error < eps):\n",
        "                break\n",
        "                        \n",
        "        return errors, accuracies\n",
        "\n",
        "    def fit_proj(self, X, y, radius):\n",
        "        \"\"\"\n",
        "        Функция подбора параметров линейной модели для квадратичной функции потерь.\n",
        "\n",
        "        Input: \n",
        "        - X     : матрица объектов\n",
        "        - y     : вектор ответов\n",
        "\n",
        "        Returns: none.\n",
        "        \"\"\"\n",
        "\n",
        "        n, k = X.shape\n",
        "        wo = np.array([])\n",
        "        X_train = X\n",
        "        self.radius = radius\n",
        "\n",
        "        # Добавляем ещё столбец для константы\n",
        "        if self.fit_intercept:\n",
        "            X_train = np.hstack((X, np.ones((n, 1))))\n",
        "            w0 = np.random.rand(k+1)\n",
        "        else:\n",
        "            w0 = np.random.rand(k)\n",
        "        \n",
        "        hessian = 2 / n * X_train.T @ X_train\n",
        "        wb, vb = np.linalg.eigh(hessian)\n",
        "        \n",
        "        lr_func = lambda X, y, w, n: 1/wb[-1]\n",
        "        \n",
        "        error_criterion = lambda X, y, w: np.linalg.norm(self.__grad_function(X, y, w, n), 2)\n",
        "        eps = 5*10e-2\n",
        "        iter = 10e3\n",
        "        errors = []\n",
        "        accuracies = []\n",
        "        self._w = w0\n",
        "\n",
        "        for it in range(int(iter // 100)):\n",
        "            self._w = self.__gradient_descent_proj(self.__function, self.__grad_function, self._w,\n",
        "                                            lr_func,  100, error_criterion, X_train, y)\n",
        "            \n",
        "            error = error_criterion(X_train, y, self._w)\n",
        "            #print(\"№ \", it * 1000, \"; error = \", error)\n",
        "            errors.append(error)\n",
        "\n",
        "            accuracies.append(accuracy_score(y, np.round(self.predict(X))))\n",
        "            if (error < eps):\n",
        "                break\n",
        "                        \n",
        "        return errors, accuracies\n",
        "\n",
        "    def predict(self, X):\n",
        "        \"\"\"\n",
        "        Функция предсказания по признакам, уже натренированной модели.\n",
        "        Input: \n",
        "        - X : объекты, по которым будем предксазывать\n",
        "\n",
        "        Returns: предсказания на основе весов, ранее обученной линейной модели.\n",
        "        \"\"\"\n",
        "        n, k = X.shape\n",
        "        X_train = X\n",
        "        if self.fit_intercept:\n",
        "            X_train = np.hstack((X, np.ones((n, 1))))\n",
        "\n",
        "        y_pred = self._w @ X_train.T\n",
        "\n",
        "        return y_pred\n",
        "\n",
        "    def get_weights(self):\n",
        "        \"\"\"\n",
        "        Функция получения весов нашей линейной модели.\n",
        "\n",
        "        Input: None.\n",
        "        Returns: Параметры модели.\n",
        "        \"\"\"\n",
        "        return self._w\n",
        "    \n",
        "    def proj(self, x0):\n",
        "        rad = self.radius\n",
        "        x = np.copy(x0)\n",
        "        d = int (x0.shape[0]) + 1\n",
        "\n",
        "        if (np.linalg.norm(x, 1) <= rad):\n",
        "            lambd = 0\n",
        "        else:\n",
        "            x = np.absolute(x)\n",
        "            x = np.append(x, 0)\n",
        "            x = np.sort(x)\n",
        "\n",
        "            x_first = np.flip(x)\n",
        "            first = np.flip(np.cumsum(x_first))\n",
        "\n",
        "            second = np.multiply( np.arange(d), x )\n",
        "\n",
        "            third = x * (-d)\n",
        "\n",
        "            forth = np.ones(d) * (-rad)\n",
        "\n",
        "            g_deriv = 2 * ( first + second + third + forth )\n",
        "            k  = np.min(np.where(g_deriv[1:] * g_deriv[:-1] <= 0))\n",
        "\n",
        "            lambd = (first[k] - x[k] - rad) / (d - 1 - k) \n",
        "\n",
        "        y = np.zeros(d - 1)\n",
        "        y[x0 <= -lambd] = x0[x0 <= -lambd] + lambd\n",
        "        #\n",
        "        #y[np.abs(x) < lambd] = x[np.abs(x) < lambd] * 0\n",
        "        y[x0 >= lambd] = x0[x0 >= lambd] - lambd\n",
        "\n",
        "        return y\n",
        "\n",
        "    def __gradient_descent(self, f, grad_f, x0, \n",
        "                         lr, iter, error_criterion, \n",
        "                         X, y):\n",
        "        \"\"\"\n",
        "        Это градиентный спуск.\n",
        "        Он получает на вход целевую функцию, функцию градиента целевой функции, \n",
        "        начальную точку, функцию learning rate, количество итераций и \n",
        "        функцию подсчета ошибки. И применяетметод градиентного спуска.\n",
        "\n",
        "        Inputs:\n",
        "        - f                 : целевая функция, минимум которой мы хотим найти.\n",
        "        - grad_f            : функция градиента целевой функции.\n",
        "        - x0                : начальная точка.\n",
        "        - lr                : функция learning rate.\n",
        "        - iter              : количество итераций.\n",
        "        - error_criterion   : функция подсчета ошибки\n",
        "        - X_train           : множество объектов (матрица фичей)\n",
        "        - y                 : вектор ответов\n",
        "\n",
        "        Returns:\n",
        "        Наилучшую минимальную точку, которую удалось найти.\n",
        "        \"\"\"\n",
        "    \n",
        "        w = x0\n",
        "        eps = 5*10e-5\n",
        "        n, k = X.shape \n",
        "        for k in range(iter):\n",
        "            prev_w = w\n",
        "            w = w - lr(X, y, w, n) * grad_f(X, y, w, n)\n",
        "            \n",
        "            error = error_criterion(X, y, w)\n",
        "\n",
        "            if (error < eps):\n",
        "                return w\n",
        "        return w\n",
        "\n",
        "    def __gradient_descent_proj(self, f, grad_f, x0, \n",
        "                         lr, iter, error_criterion, \n",
        "                         X, y):\n",
        "        \"\"\"\n",
        "        Это модифицированный градиентный спуск, с проекций градиента на l1-шар\n",
        "        Он получает на вход целевую функцию, функцию градиента целевой функции, \n",
        "        начальную точку, функцию learning rate, количество итераций и \n",
        "        функцию подсчета ошибки. И применяетметод градиентного спуска.\n",
        "\n",
        "        Inputs:\n",
        "        - f                 : целевая функция, минимум которой мы хотим найти.\n",
        "        - grad_f            : функция градиента целевой функции.\n",
        "        - x0                : начальная точка.\n",
        "        - lr                : функция learning rate.\n",
        "        - iter              : количество итераций.\n",
        "        - error_criterion   : функция подсчета ошибки\n",
        "        - X_train           : множество объектов (матрица фичей)\n",
        "        - y                 : вектор ответов\n",
        "\n",
        "        Returns:\n",
        "        Наилучшую минимальную точку, которую удалось найти.\n",
        "        \"\"\"\n",
        "    \n",
        "        w = x0\n",
        "        eps = 5*10e-2\n",
        "        n, k = X.shape \n",
        "        for k in range(iter):\n",
        "            prev_w = w\n",
        "            w = self.proj(w - lr(X, y, w, n) * grad_f(X, y, w, n))\n",
        "            \n",
        "            error = error_criterion(X, y, w)\n",
        "\n",
        "            if (error < eps):\n",
        "                return w\n",
        "        return w\n"
      ]
    },
    {
      "cell_type": "code",
      "execution_count": 39,
      "id": "bb78251d",
      "metadata": {},
      "outputs": [],
      "source": [
        "linear_model = MyLinearRegression()\n",
        "errors, accuracy = linear_model.fit_errors(X_train, y_train)"
      ]
    },
    {
      "cell_type": "code",
      "execution_count": 40,
      "id": "4d31c3e4",
      "metadata": {},
      "outputs": [
        {
          "data": {
            "text/plain": [
              "Text(0, 0.5, 'Логарифм ошибки')"
            ]
          },
          "execution_count": 40,
          "metadata": {},
          "output_type": "execute_result"
        },
        {
          "data": {
            "image/png": "[encoded data removed]",
            "text/plain": [
              "<Figure size 1152x864 with 1 Axes>"
            ]
          },
          "metadata": {
            "needs_background": "light"
          },
          "output_type": "display_data"
        }
      ],
      "source": [
        "fig, ax = plt.subplots(figsize=(16,12))\n",
        "iter = int(10e4)\n",
        "\n",
        "x = np.linspace(1000, iter, len(errors))\n",
        "y = np.array(errors)\n",
        "\n",
        "ax.set_title(\"Логарифм ошибки от номера итерации ($error || \\\\nabla f(w) ||$)\")\n",
        "ax.plot(x, np.log(y))\n",
        "\n",
        "ax.set_xlabel(\"Номер итерации\")\n",
        "ax.set_ylabel(\"Логарифм ошибки\")"
      ]
    },
    {
      "cell_type": "markdown",
      "id": "5f7902e5",
      "metadata": {
        "id": "5f7902e5"
      },
      "source": [
        "__(д)__ Как использовать итоговую модель для предсказания? Ответив на вопрос, сделайте предсказания на тестовой выборке. Сравните с реальными метками. Количество правильно угаданных меток есть точность/accuracy вашей модели. Запустите еще раз процесс обучения из пункта г), постройте как меняется точность модели от номера итерации градиентного спуска (измеряйте не каждую итерацию, а, например, каждую 100 или 1000). "
      ]
    },
    {
      "attachments": {},
      "cell_type": "markdown",
      "id": "c2141735",
      "metadata": {},
      "source": [
        "В качестве сравнения была выбрана реализация Линейной регресии из sklearn и была применена функция активации np.round."
      ]
    },
    {
      "cell_type": "code",
      "execution_count": 41,
      "id": "ce3f56f5",
      "metadata": {
        "id": "ce3f56f5"
      },
      "outputs": [
        {
          "name": "stdout",
          "output_type": "stream",
          "text": [
            "               : sklearn | my regresion\n",
            "R2 score       : 1.00000 | 0.95316  \n",
            "mean_scored    : 0.00000 | 0.01169  \n",
            "accuracy_score : 1.00000 | 0.98831  \n"
          ]
        }
      ],
      "source": [
        "model = LinearRegression()\n",
        "model.fit(X_train, y_train)\n",
        "\n",
        "y_pred_sklearn = model.predict(X_test)\n",
        "y_pred_my = linear_model.predict(X_test)\n",
        "y_pred_sklearn = np.round(y_pred_sklearn)\n",
        "y_pred_my = np.round(y_pred_my)\n",
        "\n",
        "\n",
        "r2_score_sklearn = r2_score(y_test, y_pred_sklearn)\n",
        "r2_score_my = r2_score(y_test, y_pred_my)\n",
        "\n",
        "mean_squared_error_sklearn = mean_squared_error(y_test, y_pred_sklearn)\n",
        "mean_squared_error_my = mean_squared_error(y_test, y_pred_my)\n",
        "\n",
        "accuracy_score_sklearn = accuracy_score(y_test, y_pred_sklearn)\n",
        "accuracy_score_my = accuracy_score(y_test, y_pred_my)\n",
        "\n",
        "print(\"               : sklearn | my regresion\")\n",
        "print(\"R2 score       : %0.5f | %0.5f  \" % (r2_score_sklearn, r2_score_my))\n",
        "print(\"mean_scored    : %0.5f | %0.5f  \" % (mean_squared_error_sklearn, mean_squared_error_my))\n",
        "print(\"accuracy_score : %0.5f | %0.5f  \" % (accuracy_score_sklearn, accuracy_score_my))"
      ]
    },
    {
      "cell_type": "code",
      "execution_count": 42,
      "id": "0caa899a",
      "metadata": {},
      "outputs": [
        {
          "data": {
            "text/plain": [
              "Text(0, 0.5, 'Accuracy')"
            ]
          },
          "execution_count": 42,
          "metadata": {},
          "output_type": "execute_result"
        },
        {
          "data": {
            "image/png": "[encoded data removed]",
            "text/plain": [
              "<Figure size 1152x864 with 1 Axes>"
            ]
          },
          "metadata": {
            "needs_background": "light"
          },
          "output_type": "display_data"
        }
      ],
      "source": [
        "fig, ax = plt.subplots(figsize=(16,12))\n",
        "iter = int(10e4)\n",
        "x = np.linspace(1000, iter, len(accuracy))\n",
        "y = np.array(accuracy)\n",
        "\n",
        "ax.set_title(\"Accuracy от номера итерации\")\n",
        "ax.plot(x, y)\n",
        "\n",
        "ax.set_xlabel(\"Номер итерации\")\n",
        "ax.set_ylabel(\"Accuracy\")"
      ]
    },
    {
      "cell_type": "markdown",
      "id": "29c04712",
      "metadata": {
        "id": "29c04712"
      },
      "source": [
        "__(e)__ Теперь рассмотрим эту же задачу обучения на $\\ell_1$-шаре с радиусом $\\lambda$. Повторите пункты г) и д) только теперь градиентный спуск должен быть модифицирован с помощью оператора проекции. Пробуйте различные $\\lambda > 0$ и найдите лучшее (опишите почему именно такое лучшее). Удалось ли улучшить процесс обучения/точность модели на тестовой выборке? "
      ]
    },
    {
      "cell_type": "code",
      "execution_count": 35,
      "id": "7ce3a146",
      "metadata": {},
      "outputs": [],
      "source": [
        "linear_model_proj = MyLinearRegression(True)\n",
        "\n",
        "\n",
        "lambdas = [1, 2, 4, 8, 10, 15, 20]\n",
        "\n",
        "errors = []\n",
        "accuracy = []\n",
        "\n",
        "for lamb in lambdas:\n",
        "    er, ac = linear_model_proj.fit_proj(X_train, y_train, lamb)\n",
        "    errors.append(er)\n",
        "    accuracy.append(ac)"
      ]
    },
    {
      "cell_type": "code",
      "execution_count": 36,
      "id": "c835ba3a",
      "metadata": {},
      "outputs": [
        {
          "data": {
            "text/plain": [
              "Text(0, 0.5, 'Логарифм ошибки')"
            ]
          },
          "execution_count": 36,
          "metadata": {},
          "output_type": "execute_result"
        },
        {
          "data": {
            "image/png": "[encoded data removed]",
            "text/plain": [
              "<Figure size 1152x864 with 1 Axes>"
            ]
          },
          "metadata": {
            "needs_background": "light"
          },
          "output_type": "display_data"
        }
      ],
      "source": [
        "fig, ax = plt.subplots(figsize=(16,12))    \n",
        "\n",
        "ax.set_title(\"Логарифм ошибки от номера итерации\")\n",
        "\n",
        "iter = 10e4\n",
        "for i in range(len(lambdas)):\n",
        "    er = errors[i]\n",
        "    iter = int(10e3)\n",
        "    x = np.linspace(100, iter, len(er))\n",
        "    y = er\n",
        "    ax.plot(x, np.log(y), label=\"Lambda = %d\" %(lambdas[i]))\n",
        "\n",
        "legend_box = ax.legend(framealpha=1).get_frame()\n",
        "legend_box.set_facecolor(\"white\")\n",
        "legend_box.set_edgecolor(\"black\")\n",
        "ax.set_xlabel(\"Номер итерации\")\n",
        "ax.set_ylabel(\"Логарифм ошибки\")"
      ]
    },
    {
      "cell_type": "code",
      "execution_count": 37,
      "id": "64a2b762",
      "metadata": {},
      "outputs": [
        {
          "data": {
            "text/plain": [
              "Text(0, 0.5, 'Логарифм ошибки')"
            ]
          },
          "execution_count": 37,
          "metadata": {},
          "output_type": "execute_result"
        },
        {
          "data": {
            "image/png": "[encoded data removed]",
            "text/plain": [
              "<Figure size 1152x864 with 1 Axes>"
            ]
          },
          "metadata": {
            "needs_background": "light"
          },
          "output_type": "display_data"
        }
      ],
      "source": [
        "fig, ax = plt.subplots(figsize=(16,12))    \n",
        "\n",
        "ax.set_title(\"Accuracy от номера итерации\")\n",
        "\n",
        "for i in range(len(lambdas)):\n",
        "    ac = accuracy[i]\n",
        "    iter = int(10e3)\n",
        "    x = np.linspace(1000, iter, len(ac))\n",
        "    y = ac\n",
        "    ax.plot(x, y, label=\"Lambda = %d\" %(lambdas[i]))\n",
        "\n",
        "legend_box = ax.legend(framealpha=1).get_frame()\n",
        "legend_box.set_facecolor(\"white\")\n",
        "legend_box.set_edgecolor(\"black\")\n",
        "ax.set_xlabel(\"Номер итерации\")\n",
        "ax.set_ylabel(\"Логарифм ошибки\")"
      ]
    },
    {
      "attachments": {},
      "cell_type": "markdown",
      "id": "9c45d05d",
      "metadata": {},
      "source": [
        "Видим, что быстрее всех сходится шар с $\\lambda = 20$.\n",
        "\n",
        "Но accuracy единица только на $lambda = 10, 15$, но на это не стоит ориентироваться, т.к. это зависит от начальной точки.\n",
        "\n",
        "По сравнению с обычным градиентным спуском, есть выигрыш в количестве шагов, которое требуется для того, чтобы сойтись. В обычном порядка больше 20000 итераций, для $\\lambda = 20$ нужно меньше 20."
      ]
    },
    {
      "cell_type": "markdown",
      "id": "56317873",
      "metadata": {
        "id": "56317873"
      },
      "source": [
        "__Бонусные пункт__\n",
        "\n",
        "__(ж)__ Снова рассмотрим задачу обучения без ограничений, но добавим к ней регуляризатор 1) $\\lambda \\| x \\|_1$ c $\\lambda  > 0$, 2) $\\lambda \\| x \\|_2$ c $\\lambda  > 0$. Сможем ли для новой задачи с регуляризатором использовать честный градиентный спуск без модификаций? Почему? Предложите свои идеи, как модифицировать градиентный спуск для новой задачи. Проведите для него эксперименты из пунктов г) и д).  Пробуйте различные $\\lambda > 0$ и найдите лучшее (опишите почему именно такое лучшее). Сравните результаты с пунктом e)."
      ]
    },
    {
      "cell_type": "code",
      "execution_count": null,
      "id": "caad1f26",
      "metadata": {
        "id": "caad1f26"
      },
      "outputs": [],
      "source": [
        "#ответ"
      ]
    },
    {
      "cell_type": "markdown",
      "id": "5de0ffdd",
      "metadata": {
        "id": "5de0ffdd"
      },
      "source": [
        "__(з)__ Воспользуемся для нашей задачи методом [PCA](https://ru.wikipedia.org/wiki/Метод_главных_компонент). Прочитайте про него подробнее и опишите основную идею."
      ]
    },
    {
      "cell_type": "markdown",
      "id": "d401a18d",
      "metadata": {},
      "source": []
    },
    {
      "cell_type": "markdown",
      "id": "35d55f20",
      "metadata": {
        "id": "35d55f20"
      },
      "source": [
        "Следующий код запускает PCA для нашего датасета. Убедитесь, что понимаете происходящие."
      ]
    },
    {
      "cell_type": "code",
      "execution_count": null,
      "id": "d3a91111",
      "metadata": {
        "colab": {
          "base_uri": "https://localhost:8080/"
        },
        "id": "d3a91111",
        "outputId": "e7d8538b-0d74-4012-c17b-fa5a7b636b39"
      },
      "outputs": [
        {
          "name": "stdout",
          "output_type": "stream",
          "text": [
            "[0.17105948 0.30230759 0.39600739 0.45841994 0.4986626  0.53641085\n",
            " 0.56906107 0.59689848 0.62378946 0.64579526]\n"
          ]
        }
      ],
      "source": [
        "from sklearn.decomposition import PCA\n",
        "\n",
        "pca = PCA(n_components=10)\n",
        "pca.fit(X_train)  #эта строчка будет работать только если есть матрица X_train\n",
        "print (pca.explained_variance_ratio_.cumsum())"
      ]
    },
    {
      "cell_type": "markdown",
      "id": "086cf178",
      "metadata": {
        "id": "086cf178"
      },
      "source": [
        "Какое значение n_components разумно поставить? Для новой матрицы X_train повторите пункт ж). Измерьте время работы процесса обучения. Постройте график точности решения на тестовой выборке от времени работы для честного X_train и полученного с помощью PCA."
      ]
    },
    {
      "cell_type": "code",
      "execution_count": null,
      "id": "74ce71c5",
      "metadata": {},
      "outputs": [],
      "source": [
        "# ответ"
      ]
    }
  ],
  "metadata": {
    "colab": {
      "provenance": []
    },
    "kernelspec": {
      "display_name": "Python 3",
      "language": "python",
      "name": "python3"
    },
    "language_info": {
      "codemirror_mode": {
        "name": "ipython",
        "version": 3
      },
      "file_extension": ".py",
      "mimetype": "text/x-python",
      "name": "python",
      "nbconvert_exporter": "python",
      "pygments_lexer": "ipython3",
      "version": "3.9.12"
    },
    "vscode": {
      "interpreter": {
        "hash": "52b1068d7c9357a6bcf4bebbc496f97beb29e7d49e66fdfa07b160af1e74d97d"
      }
    }
  },
  "nbformat": 4,
  "nbformat_minor": 5
}
